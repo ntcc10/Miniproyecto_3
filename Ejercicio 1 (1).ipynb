{
 "cells": [
  {
   "cell_type": "markdown",
   "metadata": {
    "colab_type": "text",
    "id": "TpmFfXsQ0dYI"
   },
   "source": [
    "<table>\n",
    "    <tr>\n",
    "        <td>&nbsp;</td>\n",
    "        <td>\n",
    "            <table><tr>\n",
    "            <tp>\n",
    "                <h1 style=\"color:blue;text-align:center\">Inteligencia Artificial Mini proyecto 3</h1\n",
    "            </tp>\n",
    "            <tp>\n",
    "                <p style=\"font-size:150%;text-align:center\">Ejercicio 1</p></tp>\n",
    "            </tr></table>\n",
    "        </td>\n",
    "    </tr>\n",
    "</table>\n",
    "\n",
    "---"
   ]
  },
  {
   "cell_type": "markdown",
   "metadata": {},
   "source": [
    "# Dependencias\n",
    "\n",
    "Al iniciar el notebook o reiniciar el kerner se pueden cargar todas las dependencias de este notebook corriendo las siguientes celdas. Este también es el lugar para instalar las dependencias que podrían hacer falta."
   ]
  },
  {
   "cell_type": "markdown",
   "metadata": {},
   "source": [
    "**De Python:**"
   ]
  },
  {
   "cell_type": "code",
   "execution_count": 1,
   "metadata": {},
   "outputs": [],
   "source": [
    "# En linux o mac\n",
    "#!pip3 install -r requirements.txt\n",
    "#!pip install 'gymnasium[toy-text]'\n",
    "#!pip install termcolor\n",
    "#!pip install moviepy\n",
    "# En windows\n",
    "#!python -m pip install -r requirements.txt\n",
    "#!python -m pip installgymnasium[toy-text]"
   ]
  },
  {
   "cell_type": "code",
   "execution_count": 1,
   "metadata": {
    "scrolled": true
   },
   "outputs": [
    {
     "name": "stderr",
     "output_type": "stream",
     "text": [
      "/Users/nataliacabrera/opt/anaconda3/lib/python3.9/site-packages/scipy/__init__.py:146: UserWarning: A NumPy version >=1.16.5 and <1.23.0 is required for this version of SciPy (detected version 1.24.2\n",
      "  warnings.warn(f\"A NumPy version >={np_minversion} and <{np_maxversion}\"\n"
     ]
    }
   ],
   "source": [
    "import numpy as np\n",
    "import pandas as pd\n",
    "import seaborn as sns\n",
    "import matplotlib.pyplot as plt\n",
    "from termcolor import colored, cprint\n",
    "import gymnasium as gym\n",
    "from gymnasium.envs.toy_text.frozen_lake import generate_random_map\n",
    "from gymnasium.wrappers import TimeLimit\n",
    "import pygame\n",
    "import pygame.surfarray"
   ]
  },
  {
   "cell_type": "markdown",
   "metadata": {},
   "source": [
    "**Del notebook:**"
   ]
  },
  {
   "cell_type": "code",
   "execution_count": 2,
   "metadata": {},
   "outputs": [],
   "source": [
    "from ambientes import *\n",
    "from agents import *\n",
    "from algoritmos import *\n",
    "from utils import Episode, Experiment,gym_interpreter1\n",
    "from plot_utils import PlotGridValues, Plot\n",
    "from tests import *"
   ]
  },
  {
   "cell_type": "code",
   "execution_count": 3,
   "metadata": {},
   "outputs": [],
   "source": [
    "class SARSA(Agent) :\n",
    "    '''\n",
    "    Implements a SARSA learning rule.\n",
    "    '''\n",
    "\n",
    "    def __init__(self, parameters:dict):\n",
    "        super().__init__(parameters)\n",
    "        self.alpha = self.parameters['alpha']\n",
    "        self.debug = False\n",
    "   \n",
    "    def update(self, next_state, reward, done):\n",
    "        '''\n",
    "        Agent updates its model.\n",
    "        '''\n",
    "        # obtain previous state\n",
    "        state = self.states[-1]\n",
    "        # obtain previous action\n",
    "        action = self.actions[-1]\n",
    "        # Get next_action\n",
    "        next_action = self.make_decision()\n",
    "        # Find bootstrap\n",
    "        estimate = reward + self.gamma*self.Q[next_state, next_action] # recompensa más descuento por valor del siguiente estado\n",
    "        # Obtain delta\n",
    "        delta = estimate - self.Q[state, action]  # Diferencia temporal: estimado menos valor del estado actual\n",
    "        # Update Q value\n",
    "        prev_Q = self.Q[state, action]\n",
    "        self.Q[state, action] = prev_Q + self.alpha*(delta) # Actualizar en la dirección de delta por una fracción alfa\n",
    "        # Update policy\n",
    "        self.update_policy(state)\n",
    "        if self.debug:\n",
    "            print('')\n",
    "            print(dash_line)\n",
    "            print(f'Learning log:')\n",
    "            print(f'state:{state}')\n",
    "            print(f'action:{action}')\n",
    "            print(f'reward:{reward}')\n",
    "            print(f'estimate:{estimate}')\n",
    "            print(f'Previous Q:{prev_Q}')\n",
    "            print(f'delta:{delta}')\n",
    "            print(f'New Q:{self.Q[state, action]}')\n"
   ]
  },
  {
   "cell_type": "code",
   "execution_count": 4,
   "metadata": {},
   "outputs": [],
   "source": [
    "class Q_learning(Agent) :\n",
    "    '''\n",
    "    Implements a Q-learning rule.\n",
    "    '''\n",
    "\n",
    "    def __init__(self, parameters:dict):\n",
    "        super().__init__(parameters)\n",
    "        self.alpha = self.parameters['alpha']\n",
    "        self.debug = False\n",
    "   \n",
    "    def update(self, next_state, reward, done):\n",
    "        '''\n",
    "        Agent updates its model.\n",
    "        '''\n",
    "        # obtain previous state\n",
    "        state = self.states[-1] # Aquí estado previo\n",
    "        # obtain previous action\n",
    "        action = self.actions[-1]\n",
    "        # Find bootstrap\n",
    "        maxQ = self.max_Q(next_state) \n",
    "        estimate = reward + self.gamma*maxQ # Calcula el estimado\n",
    "        # Obtain delta\n",
    "        delta = estimate - self.Q[state,action] # Calcula el delta\n",
    "        # Update Q value\n",
    "        prev_Q = self.Q[state, action]\n",
    "        self.Q[state, action] = prev_Q + self.alpha*(delta) # Actualiza el valor\n",
    "        # Update policy\n",
    "        self.update_policy(state) # Actualizar la política en el estado        \n",
    "        if self.debug:\n",
    "            print('')\n",
    "            print(dash_line)\n",
    "            print(f'Learning log:')\n",
    "            print(f'state:{state}')\n",
    "            print(f'action:{action}')\n",
    "            print(f'reward:{reward}')\n",
    "            print(f'estimate:{estimate}')\n",
    "            print(f'Previous Q:{prev_Q}')\n",
    "            print(f'delta:{delta}')\n",
    "            print(f'New Q:{self.Q[state, action]}') "
   ]
  },
  {
   "cell_type": "markdown",
   "metadata": {},
   "source": [
    "## Ejercicio 1 <a class=\"anchor\" id=\"ej1\"></a>"
   ]
  },
  {
   "cell_type": "code",
   "execution_count": 5,
   "metadata": {
    "scrolled": false
   },
   "outputs": [
    {
     "data": {
      "application/vnd.jupyter.widget-view+json": {
       "model_id": "a98729235bde45948fb7b184b2a16b3a",
       "version_major": 2,
       "version_minor": 0
      },
      "text/plain": [
       "Running simulations:   0%|          | 0/1 [00:00<?, ?it/s]"
      ]
     },
     "metadata": {},
     "output_type": "display_data"
    },
    {
     "data": {
      "application/vnd.jupyter.widget-view+json": {
       "model_id": "",
       "version_major": 2,
       "version_minor": 0
      },
      "text/plain": [
       "\tRunning episodes:   0%|          | 0/500 [00:00<?, ?it/s]"
      ]
     },
     "metadata": {},
     "output_type": "display_data"
    },
    {
     "data": {
      "image/png": "[encoded data removed]",
      "text/plain": [
       "<Figure size 288x252 with 1 Axes>"
      ]
     },
     "metadata": {
      "needs_background": "light"
     },
     "output_type": "display_data"
    },
    {
     "data": {
      "text/plain": [
       "\"\\nepisode = Episode(environment=env,                   env_name='ABC',                   agent=agent,                   model_name='Random',                   num_rounds=100\\n                )\\n\""
      ]
     },
     "execution_count": 5,
     "metadata": {},
     "output_type": "execute_result"
    }
   ],
   "source": [
    "# Create environment\n",
    "shape = (1,3)\n",
    "env = ABC()\n",
    "# Create agent\n",
    "parameters = {\\\n",
    "    'nS': 3,\\\n",
    "    'nA': 2,\\\n",
    "    'gamma': 0.8,\\\n",
    "    'epsilon': 0.1,\\\n",
    "    'alpha': 0.1,\\\n",
    "}\n",
    "agent_SARSA = SARSA(parameters=parameters)\n",
    "\n",
    "\n",
    "#Create experiment\n",
    "experiment = Experiment(environment=env,\\\n",
    "                        env_name='ABC', \\\n",
    "                        num_rounds=200, \\\n",
    "                        num_episodes=500, \\\n",
    "                        num_simulations=1)\n",
    "\n",
    "# Train agent\n",
    "agents = experiment.run_experiment(agents=[agent_SARSA],\\\n",
    "                                  names=['SARSA'], \\\n",
    "                                  measures=['reward'], \\\n",
    "                                  learn=True)\n",
    "\n",
    "'''\n",
    "episode = Episode(environment=env, \\\n",
    "                  env_name='ABC', \\\n",
    "                  agent=agent, \\\n",
    "                  model_name='Random', \\\n",
    "                  num_rounds=100\n",
    "                )\n",
    "'''\n"
   ]
  },
  {
   "cell_type": "code",
   "execution_count": 6,
   "metadata": {
    "scrolled": false
   },
   "outputs": [
    {
     "data": {
      "application/vnd.jupyter.widget-view+json": {
       "model_id": "25581b5087a747509b37b8158b9e3eb6",
       "version_major": 2,
       "version_minor": 0
      },
      "text/plain": [
       "Running simulations:   0%|          | 0/1 [00:00<?, ?it/s]"
      ]
     },
     "metadata": {},
     "output_type": "display_data"
    },
    {
     "data": {
      "application/vnd.jupyter.widget-view+json": {
       "model_id": "",
       "version_major": 2,
       "version_minor": 0
      },
      "text/plain": [
       "\tRunning episodes:   0%|          | 0/10 [00:00<?, ?it/s]"
      ]
     },
     "metadata": {},
     "output_type": "display_data"
    },
    {
     "name": "stdout",
     "output_type": "stream",
     "text": [
      "Average sum of rewards:\n",
      " model\n",
      "Random    8.5\n",
      "Name: reward, dtype: float64\n",
      "\n",
      "Episode termination percentage:\n",
      " model\n",
      "Random    100.0\n",
      "Name: done, dtype: float64\n"
     ]
    },
    {
     "data": {
      "image/png": "[encoded data removed]",
      "text/plain": [
       "<Figure size 288x252 with 1 Axes>"
      ]
     },
     "metadata": {
      "needs_background": "light"
     },
     "output_type": "display_data"
    }
   ],
   "source": [
    "# Create experiment\n",
    "experiment = Experiment(environment=env,\\\n",
    "                        env_name='ABC', \\\n",
    "                        num_rounds=10, \\\n",
    "                        num_episodes=10, \\\n",
    "                        num_simulations=1)\n",
    "# Test agent already trained\n",
    "agents = experiment.run_experiment(agents=[agent_SARSA],\\\n",
    "                                  names=['Random'], \\\n",
    "                                  measures=['hist_reward'], \\\n",
    "                                  learn=False)"
   ]
  },
  {
   "cell_type": "code",
   "execution_count": 7,
   "metadata": {},
   "outputs": [
    {
     "data": {
      "image/png": "[encoded data removed]",
      "text/plain": [
       "<Figure size 432x288 with 1 Axes>"
      ]
     },
     "metadata": {},
     "output_type": "display_data"
    }
   ],
   "source": [
    "# Create environment\n",
    "env = ABC()\n",
    "shape=(1,3)\n",
    "pp = PlotGridValues(shape=shape,dict_acciones=env.dict_acciones)\n",
    "s_agent = agents[0]\n",
    "p = s_agent.policy\n",
    "policy = [np.argmax(p[s,]) for s in range(env.nS)]\n",
    "pp.plot_policy(policy)"
   ]
  },
  {
   "cell_type": "code",
   "execution_count": 8,
   "metadata": {
    "scrolled": true
   },
   "outputs": [
    {
     "data": {
      "image/png": "[encoded data removed]",
      "text/plain": [
       "<Figure size 864x360 with 3 Axes>"
      ]
     },
     "metadata": {
      "needs_background": "light"
     },
     "output_type": "display_data"
    }
   ],
   "source": [
    "Q = [np.max(s_agent.Q[s,]) for s in range(env.nS)]\n",
    "Q = np.vectorize(lambda x:round(x,2))(Q)\n",
    "pp.plot_policy_and_values(policy,Q)\n"
   ]
  },
  {
   "cell_type": "code",
   "execution_count": 9,
   "metadata": {},
   "outputs": [
    {
     "data": {
      "text/plain": [
       "array([[3.07129778, 5.27316021],\n",
       "       [3.01312833, 9.54254682],\n",
       "       [0.        , 0.        ]])"
      ]
     },
     "execution_count": 9,
     "metadata": {},
     "output_type": "execute_result"
    }
   ],
   "source": [
    "s_agent.Q"
   ]
  }
 ],
 "metadata": {
  "colab": {
   "name": "arboles_busqueda.ipynb",
   "provenance": []
  },
  "kernelspec": {
   "display_name": "Python 3 (ipykernel)",
   "language": "python",
   "name": "python3"
  },
  "language_info": {
   "codemirror_mode": {
    "name": "ipython",
    "version": 3
   },
   "file_extension": ".py",
   "mimetype": "text/x-python",
   "name": "python",
   "nbconvert_exporter": "python",
   "pygments_lexer": "ipython3",
   "version": "3.9.7"
  }
 },
 "nbformat": 4,
 "nbformat_minor": 1
}
