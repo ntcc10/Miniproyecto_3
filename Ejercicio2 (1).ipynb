{
 "cells": [
  {
   "cell_type": "markdown",
   "metadata": {
    "colab_type": "text",
    "id": "TpmFfXsQ0dYI"
   },
   "source": [
    "<table>\n",
    "    <tr>\n",
    "        <td>&nbsp;</td>\n",
    "        <td>\n",
    "            <table><tr>\n",
    "            <tp>\n",
    "                <h1 style=\"color:blue;text-align:center\">Inteligencia Artificial Mini Proyecto 3</h1\n",
    "            </tp>\n",
    "            <tp>\n",
    "                <p style=\"font-size:150%;text-align:center\">Ejercicio 2</p></tp>\n",
    "            </tr></table>\n",
    "        </td>\n",
    "    </tr>\n",
    "</table>\n",
    "\n",
    "---"
   ]
  },
  {
   "cell_type": "markdown",
   "metadata": {},
   "source": [
    "# Dependencias\n",
    "\n",
    "Al iniciar el notebook o reiniciar el kerner se pueden cargar todas las dependencias de este notebook corriendo las siguientes celdas. Este también es el lugar para instalar las dependencias que podrían hacer falta."
   ]
  },
  {
   "cell_type": "markdown",
   "metadata": {},
   "source": [
    "**De Python:**"
   ]
  },
  {
   "cell_type": "code",
   "execution_count": 1,
   "metadata": {},
   "outputs": [],
   "source": [
    "# En linux o mac\n",
    "#!pip3 install -r requirements.txt\n",
    "#!pip install 'gymnasium[toy-text]'\n",
    "#!pip install termcolor\n",
    "#!pip install moviepy\n",
    "# En windows\n",
    "#!python -m pip install -r requirements.txt\n",
    "#!python -m pip installgymnasium[toy-text]"
   ]
  },
  {
   "cell_type": "code",
   "execution_count": 1,
   "metadata": {
    "scrolled": true
   },
   "outputs": [
    {
     "name": "stderr",
     "output_type": "stream",
     "text": [
      "/Users/nataliacabrera/opt/anaconda3/lib/python3.9/site-packages/scipy/__init__.py:146: UserWarning: A NumPy version >=1.16.5 and <1.23.0 is required for this version of SciPy (detected version 1.24.2\n",
      "  warnings.warn(f\"A NumPy version >={np_minversion} and <{np_maxversion}\"\n"
     ]
    }
   ],
   "source": [
    "import numpy as np\n",
    "import pandas as pd\n",
    "import seaborn as sns\n",
    "import matplotlib.pyplot as plt\n",
    "from termcolor import colored, cprint\n",
    "import gymnasium as gym\n",
    "from gymnasium.envs.toy_text.frozen_lake import generate_random_map\n",
    "from gymnasium.wrappers import TimeLimit\n",
    "import pygame\n",
    "import pygame.surfarray"
   ]
  },
  {
   "cell_type": "markdown",
   "metadata": {},
   "source": [
    "**Del notebook:**"
   ]
  },
  {
   "cell_type": "code",
   "execution_count": 2,
   "metadata": {},
   "outputs": [],
   "source": [
    "from ambientes import *\n",
    "from agents import *\n",
    "from algoritmos import *\n",
    "from utils import Episode, Experiment,gym_interpreter1\n",
    "from plot_utils import PlotGridValues, Plot\n",
    "from tests import *"
   ]
  },
  {
   "cell_type": "code",
   "execution_count": 3,
   "metadata": {},
   "outputs": [],
   "source": [
    "class SARSA(Agent) :\n",
    "    '''\n",
    "    Implements a SARSA learning rule.\n",
    "    '''\n",
    "\n",
    "    def __init__(self, parameters:dict):\n",
    "        super().__init__(parameters)\n",
    "        self.alpha = self.parameters['alpha']\n",
    "        self.debug = False\n",
    "   \n",
    "    def update(self, next_state, reward, done):\n",
    "        '''\n",
    "        Agent updates its model.\n",
    "        '''\n",
    "        # obtain previous state\n",
    "        state = self.states[-1]\n",
    "        # obtain previous action\n",
    "        action = self.actions[-1]\n",
    "        # Get next_action\n",
    "        next_action = self.make_decision()\n",
    "        # Find bootstrap\n",
    "        estimate = reward + self.gamma*self.Q[next_state, next_action] # recompensa más descuento por valor del siguiente estado\n",
    "        # Obtain delta\n",
    "        delta = estimate - self.Q[state, action]  # Diferencia temporal: estimado menos valor del estado actual\n",
    "        # Update Q value\n",
    "        prev_Q = self.Q[state, action]\n",
    "        self.Q[state, action] = prev_Q + self.alpha*(delta) # Actualizar en la dirección de delta por una fracción alfa\n",
    "        # Update policy\n",
    "        self.update_policy(state)\n",
    "        if self.debug:\n",
    "            print('')\n",
    "            print(dash_line)\n",
    "            print(f'Learning log:')\n",
    "            print(f'state:{state}')\n",
    "            print(f'action:{action}')\n",
    "            print(f'reward:{reward}')\n",
    "            print(f'estimate:{estimate}')\n",
    "            print(f'Previous Q:{prev_Q}')\n",
    "            print(f'delta:{delta}')\n",
    "            print(f'New Q:{self.Q[state, action]}')\n"
   ]
  },
  {
   "cell_type": "code",
   "execution_count": 4,
   "metadata": {},
   "outputs": [],
   "source": [
    "class Q_learning(Agent) :\n",
    "    '''\n",
    "    Implements a Q-learning rule.\n",
    "    '''\n",
    "\n",
    "    def __init__(self, parameters:dict):\n",
    "        super().__init__(parameters)\n",
    "        self.alpha = self.parameters['alpha']\n",
    "        self.debug = False\n",
    "   \n",
    "    def update(self, next_state, reward, done):\n",
    "        '''\n",
    "        Agent updates its model.\n",
    "        '''\n",
    "        # obtain previous state\n",
    "        state = self.states[-1] # Aquí estado previo\n",
    "        # obtain previous action\n",
    "        action = self.actions[-1]\n",
    "        # Find bootstrap\n",
    "        maxQ = self.max_Q(next_state) \n",
    "        estimate = reward + self.gamma*maxQ # Calcula el estimado\n",
    "        # Obtain delta\n",
    "        delta = estimate - self.Q[state,action] # Calcula el delta\n",
    "        # Update Q value\n",
    "        prev_Q = self.Q[state, action]\n",
    "        self.Q[state, action] = prev_Q + self.alpha*(delta) # Actualiza el valor\n",
    "        # Update policy\n",
    "        self.update_policy(state) # Actualizar la política en el estado        \n",
    "        if self.debug:\n",
    "            print('')\n",
    "            print(dash_line)\n",
    "            print(f'Learning log:')\n",
    "            print(f'state:{state}')\n",
    "            print(f'action:{action}')\n",
    "            print(f'reward:{reward}')\n",
    "            print(f'estimate:{estimate}')\n",
    "            print(f'Previous Q:{prev_Q}')\n",
    "            print(f'delta:{delta}')\n",
    "            print(f'New Q:{self.Q[state, action]}') "
   ]
  },
  {
   "cell_type": "markdown",
   "metadata": {},
   "source": [
    "## Ejercicio 2 <a class=\"anchor\" id=\"ej2\"></a>"
   ]
  },
  {
   "cell_type": "code",
   "execution_count": 25,
   "metadata": {
    "scrolled": true
   },
   "outputs": [],
   "source": [
    "\n",
    "size = 4\n",
    "#create environment\n",
    "env = gym.make('FrozenLake-v1', \n",
    "               desc=[\"SFFF\", \"FFHF\", \"FHFF\", \"FFFG\"], \n",
    "               map_name=\"4x4\",\n",
    "               is_slippery=True, \n",
    "               render_mode='rgb_array')\n"
   ]
  },
  {
   "cell_type": "code",
   "execution_count": 26,
   "metadata": {},
   "outputs": [],
   "source": [
    "# Create agent\n",
    "parameters = {\\\n",
    "    'nS': 16,\\\n",
    "    'nA': 4,\\\n",
    "    'gamma': 0.9,\\\n",
    "    'epsilon': 0.1,\\\n",
    "    'alpha': 0.1,\\\n",
    "}\n",
    "agent_Q = Q_learning(parameters=parameters)\n",
    "agent_Q.Q+=1/5\n",
    "#print(agent_Q.Q)"
   ]
  },
  {
   "cell_type": "code",
   "execution_count": 27,
   "metadata": {
    "scrolled": true
   },
   "outputs": [
    {
     "data": {
      "application/vnd.jupyter.widget-view+json": {
       "model_id": "cd1337328a0741d5b6dc2c9024afa922",
       "version_major": 2,
       "version_minor": 0
      },
      "text/plain": [
       "Running simulations:   0%|          | 0/1 [00:00<?, ?it/s]"
      ]
     },
     "metadata": {},
     "output_type": "display_data"
    },
    {
     "data": {
      "application/vnd.jupyter.widget-view+json": {
       "model_id": "",
       "version_major": 2,
       "version_minor": 0
      },
      "text/plain": [
       "\tRunning episodes:   0%|          | 0/2000 [00:00<?, ?it/s]"
      ]
     },
     "metadata": {},
     "output_type": "display_data"
    },
    {
     "data": {
      "image/png": "[encoded data removed]",
      "text/plain": [
       "<Figure size 288x252 with 1 Axes>"
      ]
     },
     "metadata": {
      "needs_background": "light"
     },
     "output_type": "display_data"
    }
   ],
   "source": [
    "# Create experiment\n",
    "experiment = Experiment(environment=env,\\\n",
    "                        env_name='Frozen Lake', \\\n",
    "                        num_rounds=1000, \\\n",
    "                        num_episodes=2000, \\\n",
    "                        num_simulations=1,\\\n",
    "                        state_interpreter=gym_interpreter1)\n",
    "# Train agent\n",
    "agents = experiment.run_experiment(agents=[agent_Q],\\\n",
    "                                  names=['Random'], \\\n",
    "                                  measures=['reward'], \\\n",
    "                                  learn=True)"
   ]
  },
  {
   "cell_type": "code",
   "execution_count": 28,
   "metadata": {
    "scrolled": false
   },
   "outputs": [
    {
     "data": {
      "image/png": "[encoded data removed]",
      "text/plain": [
       "<Figure size 432x288 with 1 Axes>"
      ]
     },
     "metadata": {},
     "output_type": "display_data"
    }
   ],
   "source": [
    "env = gym.make('FrozenLake-v1', \n",
    "               desc=[\"SFFF\", \"FFHF\", \"FHFF\", \"FFFG\"], \n",
    "               map_name=\"4x4\",\n",
    "               is_slippery=True, \n",
    "               render_mode='rgb_array')\n",
    "shape=(4,4)\n",
    "# Include additional information about states and actions\n",
    "dict_acciones = {3:\"⬆\", 2:\"➡\", 1:\"⬇\", 0:\"⬅\"}\n",
    "dict_states = dict(zip([s for s in range(16)], [np.unravel_index(s, (4,4)) for s in range(16)]))\n",
    "setattr(env, 'nS', 16)\n",
    "setattr(env, 'nA', 4)\n",
    "setattr(env, 'dict_acciones', dict_acciones)\n",
    "setattr(env, 'dict_states', dict_states)\n",
    "pp = PlotGridValues(shape=shape,dict_acciones=env.dict_acciones)\n",
    "q_agent = agents[0]\n",
    "p = q_agent.policy\n",
    "policy = [np.argmax(p[s,]) for s in range(env.nS)]\n",
    "#print(p)\n",
    "pp.plot_policy(np.flipud(policy))"
   ]
  },
  {
   "cell_type": "code",
   "execution_count": 29,
   "metadata": {
    "scrolled": true
   },
   "outputs": [
    {
     "data": {
      "image/png": "[encoded data removed]",
      "text/plain": [
       "<Figure size 864x360 with 3 Axes>"
      ]
     },
     "metadata": {
      "needs_background": "light"
     },
     "output_type": "display_data"
    }
   ],
   "source": [
    "Q = [np.max(agent_Q.Q[s,]) for s in range(env.nS)]\n",
    "Q = np.vectorize(lambda x:round(x,2))(Q)\n",
    "pp.plot_policy_and_values(policy,Q)"
   ]
  },
  {
   "cell_type": "code",
   "execution_count": 30,
   "metadata": {},
   "outputs": [],
   "source": [
    "# Shut down exploration\n",
    "agents[0].epsilon = 0\n",
    "for s in range(env.nS):\n",
    "    agents[0].update_policy(s)"
   ]
  },
  {
   "cell_type": "code",
   "execution_count": 31,
   "metadata": {
    "scrolled": false
   },
   "outputs": [
    {
     "data": {
      "application/vnd.jupyter.widget-view+json": {
       "model_id": "7c92395dfdb1477c87f224d5d378a3d0",
       "version_major": 2,
       "version_minor": 0
      },
      "text/plain": [
       "Running simulations:   0%|          | 0/1 [00:00<?, ?it/s]"
      ]
     },
     "metadata": {},
     "output_type": "display_data"
    },
    {
     "data": {
      "application/vnd.jupyter.widget-view+json": {
       "model_id": "",
       "version_major": 2,
       "version_minor": 0
      },
      "text/plain": [
       "\tRunning episodes:   0%|          | 0/10 [00:00<?, ?it/s]"
      ]
     },
     "metadata": {},
     "output_type": "display_data"
    },
    {
     "name": "stdout",
     "output_type": "stream",
     "text": [
      "Average sum of rewards:\n",
      " model\n",
      "Random    1.0\n",
      "Name: reward, dtype: float64\n",
      "\n",
      "Episode termination percentage:\n",
      " model\n",
      "Random    100.0\n",
      "Name: done, dtype: float64\n"
     ]
    },
    {
     "data": {
      "image/png": "[encoded data removed]",
      "text/plain": [
       "<Figure size 288x252 with 1 Axes>"
      ]
     },
     "metadata": {
      "needs_background": "light"
     },
     "output_type": "display_data"
    }
   ],
   "source": [
    "# Create experiment\n",
    "experiment = Experiment(environment=env,\\\n",
    "                        env_name='Frozen lake', \\\n",
    "                        num_rounds=200, \\\n",
    "                        num_episodes=10, \\\n",
    "                        num_simulations=1,\\\n",
    "                        state_interpreter=gym_interpreter1)\n",
    "# Test agent already trained\n",
    "agents = experiment.run_experiment(agents=agents,\\\n",
    "                                  names=['Random'], \\\n",
    "                                  measures=['hist_reward'], \\\n",
    "                                  learn=False)"
   ]
  }
 ],
 "metadata": {
  "colab": {
   "name": "arboles_busqueda.ipynb",
   "provenance": []
  },
  "kernelspec": {
   "display_name": "Python 3 (ipykernel)",
   "language": "python",
   "name": "python3"
  },
  "language_info": {
   "codemirror_mode": {
    "name": "ipython",
    "version": 3
   },
   "file_extension": ".py",
   "mimetype": "text/x-python",
   "name": "python",
   "nbconvert_exporter": "python",
   "pygments_lexer": "ipython3",
   "version": "3.9.7"
  }
 },
 "nbformat": 4,
 "nbformat_minor": 1
}
